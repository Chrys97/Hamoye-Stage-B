{
  "nbformat": 4,
  "nbformat_minor": 0,
  "metadata": {
    "colab": {
      "name": "Nwagwu Chibuikem Stage B.ipynb",
      "provenance": [],
      "mount_file_id": "1XHpkM_-KtCPJi0d28tXXvENJGbnTmmSj",
      "authorship_tag": "ABX9TyMuO7+G8C08uyOrisEchWQ+",
      "include_colab_link": true
    },
    "kernelspec": {
      "name": "python3",
      "display_name": "Python 3"
    }
  },
  "cells": [
    {
      "cell_type": "markdown",
      "metadata": {
        "id": "view-in-github",
        "colab_type": "text"
      },
      "source": [
        "<a href=\"https://colab.research.google.com/github/Chrys97/Hamoye-Stage-B/blob/master/Nwagwu_Chibuikem_Stage_B.ipynb\" target=\"_parent\"><img src=\"https://colab.research.google.com/assets/colab-badge.svg\" alt=\"Open In Colab\"/></a>"
      ]
    },
    {
      "cell_type": "markdown",
      "metadata": {
        "id": "ot526d9Sc1DZ",
        "colab_type": "text"
      },
      "source": [
        "**NWAGWU, CHIBUIKEM CHRYSOGONUS**"
      ]
    },
    {
      "cell_type": "markdown",
      "metadata": {
        "id": "uRQ8AwcOdBiC",
        "colab_type": "text"
      },
      "source": [
        "importing relevant models and functions"
      ]
    },
    {
      "cell_type": "code",
      "metadata": {
        "id": "yk5WCcxqZU2o",
        "colab_type": "code",
        "colab": {}
      },
      "source": [
        "import numpy as np\n",
        "import pandas as pd\n",
        "import seaborn as sns\n",
        "import matplotlib.pyplot as plt"
      ],
      "execution_count": null,
      "outputs": []
    },
    {
      "cell_type": "code",
      "metadata": {
        "id": "r2dy2tlFdPsP",
        "colab_type": "code",
        "colab": {
          "base_uri": "https://localhost:8080/",
          "height": 221
        },
        "outputId": "ecf76e6c-24c0-4dbf-d6c1-468ef34d33d0"
      },
      "source": [
        "df = pd.read_csv('/content/drive/My Drive/energydata_complete.csv')\n",
        "column_names = {'date': 'Date', 'lights': 'Lights', 'T1': 'Kitchen Temperature',\n",
        "                'RH_1': 'Kitchen Humidity', 'T2': 'Living Room Temperature', \n",
        "                'RH_2': 'Living Room Humidity', 'T3': 'Laundry Room Temperature', \n",
        "                'RH_3': 'Laundry Room Humidity', 'T4': 'Office Room Temperature', \n",
        "                'RH_4': 'Office Room Humidity', 'T5': 'Bathroom Temperature', \n",
        "                'RH_5': 'Bathroom Humidity', 'T6': 'Northside Outside Temperature', \n",
        "                'RH_6': 'Northside Outside Humidity', 'T7': 'Ironing Room Temperature', \n",
        "                'RH_7': 'Ironing Room Humidity', 'T8': 'Teenager Room Temperature', \n",
        "                'RH_8': 'Teenager Room Humidity', 'T9': 'Parents Room Temperature', \n",
        "                'RH_9': 'Parents Room Humidity', 'To': 'Temperature Outside', \n",
        "                'rv1': 'Random Variable 1', 'rv2': 'Random Variable 2'}\n",
        "df = df.rename(columns = column_names)\n",
        "df.columns"
      ],
      "execution_count": null,
      "outputs": [
        {
          "output_type": "execute_result",
          "data": {
            "text/plain": [
              "Index(['Date', 'Appliances', 'Lights', 'Kitchen Temperature',\n",
              "       'Kitchen Humidity', 'Living Room Temperature', 'Living Room Humidity',\n",
              "       'Laundry Room Temperature', 'Laundry Room Humidity',\n",
              "       'Office Room Temperature', 'Office Room Humidity',\n",
              "       'Bathroom Temperature', 'Bathroom Humidity',\n",
              "       'Northside Outside Temperature', 'Northside Outside Humidity',\n",
              "       'Ironing Room Temperature', 'Ironing Room Humidity',\n",
              "       'Teenager Room Temperature', 'Teenager Room Humidity',\n",
              "       'Parents Room Temperature', 'Parents Room Humidity', 'T_out',\n",
              "       'Press_mm_hg', 'RH_out', 'Windspeed', 'Visibility', 'Tdewpoint',\n",
              "       'Random Variable 1', 'Random Variable 2'],\n",
              "      dtype='object')"
            ]
          },
          "metadata": {
            "tags": []
          },
          "execution_count": 42
        }
      ]
    },
    {
      "cell_type": "code",
      "metadata": {
        "id": "pJfr-Ql-dVzU",
        "colab_type": "code",
        "colab": {}
      },
      "source": [
        "df = df.drop(columns = ['Date', 'Lights'])"
      ],
      "execution_count": null,
      "outputs": []
    },
    {
      "cell_type": "code",
      "metadata": {
        "id": "2m2WNWQ4d41V",
        "colab_type": "code",
        "colab": {
          "base_uri": "https://localhost:8080/",
          "height": 595
        },
        "outputId": "d9f55afe-cf8e-44f6-d381-7e10ef824c1e"
      },
      "source": [
        "df.info()"
      ],
      "execution_count": null,
      "outputs": [
        {
          "output_type": "stream",
          "text": [
            "<class 'pandas.core.frame.DataFrame'>\n",
            "RangeIndex: 19735 entries, 0 to 19734\n",
            "Data columns (total 27 columns):\n",
            " #   Column                         Non-Null Count  Dtype  \n",
            "---  ------                         --------------  -----  \n",
            " 0   Appliances                     19735 non-null  int64  \n",
            " 1   Kitchen Temperature            19735 non-null  float64\n",
            " 2   Kitchen Humidity               19735 non-null  float64\n",
            " 3   Living Room Temperature        19735 non-null  float64\n",
            " 4   Living Room Humidity           19735 non-null  float64\n",
            " 5   Laundry Room Temperature       19735 non-null  float64\n",
            " 6   Laundry Room Humidity          19735 non-null  float64\n",
            " 7   Office Room Temperature        19735 non-null  float64\n",
            " 8   Office Room Humidity           19735 non-null  float64\n",
            " 9   Bathroom Temperature           19735 non-null  float64\n",
            " 10  Bathroom Humidity              19735 non-null  float64\n",
            " 11  Northside Outside Temperature  19735 non-null  float64\n",
            " 12  Northside Outside Humidity     19735 non-null  float64\n",
            " 13  Ironing Room Temperature       19735 non-null  float64\n",
            " 14  Ironing Room Humidity          19735 non-null  float64\n",
            " 15  Teenager Room Temperature      19735 non-null  float64\n",
            " 16  Teenager Room Humidity         19735 non-null  float64\n",
            " 17  Parents Room Temperature       19735 non-null  float64\n",
            " 18  Parents Room Humidity          19735 non-null  float64\n",
            " 19  T_out                          19735 non-null  float64\n",
            " 20  Press_mm_hg                    19735 non-null  float64\n",
            " 21  RH_out                         19735 non-null  float64\n",
            " 22  Windspeed                      19735 non-null  float64\n",
            " 23  Visibility                     19735 non-null  float64\n",
            " 24  Tdewpoint                      19735 non-null  float64\n",
            " 25  Random Variable 1              19735 non-null  float64\n",
            " 26  Random Variable 2              19735 non-null  float64\n",
            "dtypes: float64(26), int64(1)\n",
            "memory usage: 4.1 MB\n"
          ],
          "name": "stdout"
        }
      ]
    },
    {
      "cell_type": "code",
      "metadata": {
        "id": "pOmdcw-8dc9v",
        "colab_type": "code",
        "colab": {}
      },
      "source": [
        "from sklearn.preprocessing import MinMaxScaler\n",
        "scaler = MinMaxScaler()\n",
        "normalized_df = pd.DataFrame(scaler.fit_transform(df), columns = df.columns)\n",
        "featured_df = normalized_df.drop(columns = ['Appliances'])\n",
        "target_variable = normalized_df['Appliances']"
      ],
      "execution_count": null,
      "outputs": []
    },
    {
      "cell_type": "code",
      "metadata": {
        "id": "a-qaS8CCdh_f",
        "colab_type": "code",
        "colab": {}
      },
      "source": [
        "from sklearn.model_selection import train_test_split\n",
        "x_train, x_test, y_train, y_test = train_test_split(featured_df, target_variable,\n",
        "                                                    test_size = 0.3,\n",
        "                                                    random_state = 42)"
      ],
      "execution_count": null,
      "outputs": []
    },
    {
      "cell_type": "markdown",
      "metadata": {
        "id": "CJu-6x54e1-4",
        "colab_type": "text"
      },
      "source": [
        "importing metrics and linear models for use in relevant questions"
      ]
    },
    {
      "cell_type": "code",
      "metadata": {
        "id": "iIo8VdFpe_vH",
        "colab_type": "code",
        "colab": {}
      },
      "source": [
        "from sklearn.linear_model import LinearRegression\n",
        "from sklearn.metrics import mean_absolute_error\n",
        "from sklearn.metrics import mean_squared_error\n",
        "from sklearn.metrics import r2_score\n",
        "from sklearn.linear_model import Ridge\n",
        "from sklearn.linear_model import Lasso"
      ],
      "execution_count": null,
      "outputs": []
    },
    {
      "cell_type": "code",
      "metadata": {
        "id": "HjouOgdbdyAh",
        "colab_type": "code",
        "colab": {
          "base_uri": "https://localhost:8080/",
          "height": 142
        },
        "outputId": "9f41a92a-7f98-4533-d585-7dc0fa585b2a"
      },
      "source": [
        "models = {'LinearRegression': LinearRegression(),\n",
        "          'Ridge_reg': Ridge(alpha = 0.4),\n",
        "          'Lasso_reg': Lasso(alpha = 0.001)}\n",
        "def pipeline(models, X_train, X_test, y_train, y_test):\n",
        "  prop = []\n",
        "  for reg_name, regressor in models.items():\n",
        "    reg_dict = {}\n",
        "    reg_dict['Name'] = reg_name\n",
        "    regressor.fit(x_train, y_train)\n",
        "    reg_dict['train_score'] = regressor.score(x_train, y_train)\n",
        "    reg_dict['test_score'] = regressor.score(x_test, y_test)\n",
        "    reg_dict['MAE'] = mean_absolute_error(y_test, regressor.predict(x_test))\n",
        "    reg_dict['RMSE'] = np.sqrt(mean_squared_error(y_test, regressor.predict(x_test)))\n",
        "    reg_dict['RSS'] = np.sum(np.square(y_test - regressor.predict(x_test)))\n",
        "    reg_dict['R2'] = r2_score(y_test, regressor.predict(x_test))\n",
        "    prop.append(reg_dict)\n",
        "    \n",
        "    summary_df = pd.DataFrame(prop)\n",
        "  return summary_df\n",
        "pipeline(models, x_train, x_test, y_train, y_test)"
      ],
      "execution_count": null,
      "outputs": [
        {
          "output_type": "execute_result",
          "data": {
            "text/html": [
              "<div>\n",
              "<style scoped>\n",
              "    .dataframe tbody tr th:only-of-type {\n",
              "        vertical-align: middle;\n",
              "    }\n",
              "\n",
              "    .dataframe tbody tr th {\n",
              "        vertical-align: top;\n",
              "    }\n",
              "\n",
              "    .dataframe thead th {\n",
              "        text-align: right;\n",
              "    }\n",
              "</style>\n",
              "<table border=\"1\" class=\"dataframe\">\n",
              "  <thead>\n",
              "    <tr style=\"text-align: right;\">\n",
              "      <th></th>\n",
              "      <th>Name</th>\n",
              "      <th>train_score</th>\n",
              "      <th>test_score</th>\n",
              "      <th>MAE</th>\n",
              "      <th>RMSE</th>\n",
              "      <th>RSS</th>\n",
              "      <th>R2</th>\n",
              "    </tr>\n",
              "  </thead>\n",
              "  <tbody>\n",
              "    <tr>\n",
              "      <th>0</th>\n",
              "      <td>LinearRegression</td>\n",
              "      <td>0.144719</td>\n",
              "      <td>0.148902</td>\n",
              "      <td>0.050134</td>\n",
              "      <td>0.087514</td>\n",
              "      <td>45.347630</td>\n",
              "      <td>0.148902</td>\n",
              "    </tr>\n",
              "    <tr>\n",
              "      <th>1</th>\n",
              "      <td>Ridge_reg</td>\n",
              "      <td>0.144506</td>\n",
              "      <td>0.148525</td>\n",
              "      <td>0.050087</td>\n",
              "      <td>0.087534</td>\n",
              "      <td>45.367745</td>\n",
              "      <td>0.148525</td>\n",
              "    </tr>\n",
              "    <tr>\n",
              "      <th>2</th>\n",
              "      <td>Lasso_reg</td>\n",
              "      <td>0.024992</td>\n",
              "      <td>0.026801</td>\n",
              "      <td>0.055257</td>\n",
              "      <td>0.093582</td>\n",
              "      <td>51.853367</td>\n",
              "      <td>0.026801</td>\n",
              "    </tr>\n",
              "  </tbody>\n",
              "</table>\n",
              "</div>"
            ],
            "text/plain": [
              "               Name  train_score  test_score  ...      RMSE        RSS        R2\n",
              "0  LinearRegression     0.144719    0.148902  ...  0.087514  45.347630  0.148902\n",
              "1         Ridge_reg     0.144506    0.148525  ...  0.087534  45.367745  0.148525\n",
              "2         Lasso_reg     0.024992    0.026801  ...  0.093582  51.853367  0.026801\n",
              "\n",
              "[3 rows x 7 columns]"
            ]
          },
          "metadata": {
            "tags": []
          },
          "execution_count": 48
        }
      ]
    },
    {
      "cell_type": "code",
      "metadata": {
        "id": "qT5ONDzogjqA",
        "colab_type": "code",
        "colab": {
          "base_uri": "https://localhost:8080/",
          "height": 855
        },
        "outputId": "f7e3dd6b-4e4c-44d7-c107-90e9c83daf87"
      },
      "source": [
        "from sklearn.linear_model import LinearRegression\n",
        "linear_model = LinearRegression()\n",
        "linear_model.fit(x_train, y_train)\n",
        "\n",
        "def get_weights_df(model, feat, col_name):\n",
        "  weights = pd.Series(model.coef_, feat.columns).sort_values()\n",
        "  weights_df = pd.DataFrame(weights).reset_index()\n",
        "  weights_df.columns = ['Features', col_name]\n",
        "  weights_df[col_name].round(3)\n",
        "  return weights_df\n",
        "\n",
        "from sklearn.linear_model import Ridge\n",
        "ridge_reg = Ridge(alpha = 0.5)\n",
        "ridge_reg.fit(x_train, y_train)\n",
        "\n",
        "from sklearn.linear_model import Lasso\n",
        "lasso_reg = Lasso(alpha = 0.001)\n",
        "lasso_reg.fit(x_train, y_train)\n",
        "\n",
        "linear_model_weights = get_weights_df(linear_model, x_train,'Linear_Model_Weight')\n",
        "ridge_weights_df = get_weights_df(ridge_reg, x_train, 'Ridge_Weight')\n",
        "lasso_weights_df = get_weights_df(lasso_reg, x_train, 'Lasso_Weight')\n",
        "\n",
        "final_weights = pd.merge(linear_model_weights, ridge_weights_df, on ='Features')\n",
        "final_weights = pd.merge(final_weights, lasso_weights_df, on = 'Features')\n",
        "final_weights"
      ],
      "execution_count": null,
      "outputs": [
        {
          "output_type": "execute_result",
          "data": {
            "text/html": [
              "<div>\n",
              "<style scoped>\n",
              "    .dataframe tbody tr th:only-of-type {\n",
              "        vertical-align: middle;\n",
              "    }\n",
              "\n",
              "    .dataframe tbody tr th {\n",
              "        vertical-align: top;\n",
              "    }\n",
              "\n",
              "    .dataframe thead th {\n",
              "        text-align: right;\n",
              "    }\n",
              "</style>\n",
              "<table border=\"1\" class=\"dataframe\">\n",
              "  <thead>\n",
              "    <tr style=\"text-align: right;\">\n",
              "      <th></th>\n",
              "      <th>Features</th>\n",
              "      <th>Linear_Model_Weight</th>\n",
              "      <th>Ridge_Weight</th>\n",
              "      <th>Lasso_Weight</th>\n",
              "    </tr>\n",
              "  </thead>\n",
              "  <tbody>\n",
              "    <tr>\n",
              "      <th>0</th>\n",
              "      <td>Living Room Humidity</td>\n",
              "      <td>-0.456698</td>\n",
              "      <td>-0.401134</td>\n",
              "      <td>-0.000000</td>\n",
              "    </tr>\n",
              "    <tr>\n",
              "      <th>1</th>\n",
              "      <td>T_out</td>\n",
              "      <td>-0.321860</td>\n",
              "      <td>-0.250765</td>\n",
              "      <td>0.000000</td>\n",
              "    </tr>\n",
              "    <tr>\n",
              "      <th>2</th>\n",
              "      <td>Living Room Temperature</td>\n",
              "      <td>-0.236178</td>\n",
              "      <td>-0.193880</td>\n",
              "      <td>0.000000</td>\n",
              "    </tr>\n",
              "    <tr>\n",
              "      <th>3</th>\n",
              "      <td>Parents Room Temperature</td>\n",
              "      <td>-0.189941</td>\n",
              "      <td>-0.188584</td>\n",
              "      <td>-0.000000</td>\n",
              "    </tr>\n",
              "    <tr>\n",
              "      <th>4</th>\n",
              "      <td>Teenager Room Humidity</td>\n",
              "      <td>-0.157595</td>\n",
              "      <td>-0.156596</td>\n",
              "      <td>-0.000110</td>\n",
              "    </tr>\n",
              "    <tr>\n",
              "      <th>5</th>\n",
              "      <td>RH_out</td>\n",
              "      <td>-0.077671</td>\n",
              "      <td>-0.050541</td>\n",
              "      <td>-0.049557</td>\n",
              "    </tr>\n",
              "    <tr>\n",
              "      <th>6</th>\n",
              "      <td>Ironing Room Humidity</td>\n",
              "      <td>-0.044614</td>\n",
              "      <td>-0.046291</td>\n",
              "      <td>-0.000000</td>\n",
              "    </tr>\n",
              "    <tr>\n",
              "      <th>7</th>\n",
              "      <td>Parents Room Humidity</td>\n",
              "      <td>-0.039800</td>\n",
              "      <td>-0.041701</td>\n",
              "      <td>-0.000000</td>\n",
              "    </tr>\n",
              "    <tr>\n",
              "      <th>8</th>\n",
              "      <td>Bathroom Temperature</td>\n",
              "      <td>-0.015657</td>\n",
              "      <td>-0.020727</td>\n",
              "      <td>-0.000000</td>\n",
              "    </tr>\n",
              "    <tr>\n",
              "      <th>9</th>\n",
              "      <td>Kitchen Temperature</td>\n",
              "      <td>-0.003281</td>\n",
              "      <td>-0.021549</td>\n",
              "      <td>0.000000</td>\n",
              "    </tr>\n",
              "    <tr>\n",
              "      <th>10</th>\n",
              "      <td>Random Variable 1</td>\n",
              "      <td>0.000770</td>\n",
              "      <td>0.000743</td>\n",
              "      <td>-0.000000</td>\n",
              "    </tr>\n",
              "    <tr>\n",
              "      <th>11</th>\n",
              "      <td>Random Variable 2</td>\n",
              "      <td>0.000770</td>\n",
              "      <td>0.000743</td>\n",
              "      <td>-0.000000</td>\n",
              "    </tr>\n",
              "    <tr>\n",
              "      <th>12</th>\n",
              "      <td>Press_mm_hg</td>\n",
              "      <td>0.006839</td>\n",
              "      <td>0.006516</td>\n",
              "      <td>-0.000000</td>\n",
              "    </tr>\n",
              "    <tr>\n",
              "      <th>13</th>\n",
              "      <td>Ironing Room Temperature</td>\n",
              "      <td>0.010319</td>\n",
              "      <td>0.010021</td>\n",
              "      <td>-0.000000</td>\n",
              "    </tr>\n",
              "    <tr>\n",
              "      <th>14</th>\n",
              "      <td>Visibility</td>\n",
              "      <td>0.012307</td>\n",
              "      <td>0.012032</td>\n",
              "      <td>0.000000</td>\n",
              "    </tr>\n",
              "    <tr>\n",
              "      <th>15</th>\n",
              "      <td>Bathroom Humidity</td>\n",
              "      <td>0.016006</td>\n",
              "      <td>0.016176</td>\n",
              "      <td>0.000000</td>\n",
              "    </tr>\n",
              "    <tr>\n",
              "      <th>16</th>\n",
              "      <td>Office Room Humidity</td>\n",
              "      <td>0.026386</td>\n",
              "      <td>0.024168</td>\n",
              "      <td>0.000000</td>\n",
              "    </tr>\n",
              "    <tr>\n",
              "      <th>17</th>\n",
              "      <td>Office Room Temperature</td>\n",
              "      <td>0.028981</td>\n",
              "      <td>0.027006</td>\n",
              "      <td>-0.000000</td>\n",
              "    </tr>\n",
              "    <tr>\n",
              "      <th>18</th>\n",
              "      <td>Windspeed</td>\n",
              "      <td>0.029183</td>\n",
              "      <td>0.030463</td>\n",
              "      <td>0.002912</td>\n",
              "    </tr>\n",
              "    <tr>\n",
              "      <th>19</th>\n",
              "      <td>Northside Outside Humidity</td>\n",
              "      <td>0.038049</td>\n",
              "      <td>0.035023</td>\n",
              "      <td>-0.000000</td>\n",
              "    </tr>\n",
              "    <tr>\n",
              "      <th>20</th>\n",
              "      <td>Laundry Room Humidity</td>\n",
              "      <td>0.096048</td>\n",
              "      <td>0.094976</td>\n",
              "      <td>0.000000</td>\n",
              "    </tr>\n",
              "    <tr>\n",
              "      <th>21</th>\n",
              "      <td>Teenager Room Temperature</td>\n",
              "      <td>0.101995</td>\n",
              "      <td>0.100754</td>\n",
              "      <td>0.000000</td>\n",
              "    </tr>\n",
              "    <tr>\n",
              "      <th>22</th>\n",
              "      <td>Tdewpoint</td>\n",
              "      <td>0.117758</td>\n",
              "      <td>0.076668</td>\n",
              "      <td>0.000000</td>\n",
              "    </tr>\n",
              "    <tr>\n",
              "      <th>23</th>\n",
              "      <td>Northside Outside Temperature</td>\n",
              "      <td>0.236425</td>\n",
              "      <td>0.213316</td>\n",
              "      <td>0.000000</td>\n",
              "    </tr>\n",
              "    <tr>\n",
              "      <th>24</th>\n",
              "      <td>Laundry Room Temperature</td>\n",
              "      <td>0.290627</td>\n",
              "      <td>0.287408</td>\n",
              "      <td>0.000000</td>\n",
              "    </tr>\n",
              "    <tr>\n",
              "      <th>25</th>\n",
              "      <td>Kitchen Humidity</td>\n",
              "      <td>0.553547</td>\n",
              "      <td>0.511932</td>\n",
              "      <td>0.017880</td>\n",
              "    </tr>\n",
              "  </tbody>\n",
              "</table>\n",
              "</div>"
            ],
            "text/plain": [
              "                         Features  ...  Lasso_Weight\n",
              "0            Living Room Humidity  ...     -0.000000\n",
              "1                           T_out  ...      0.000000\n",
              "2         Living Room Temperature  ...      0.000000\n",
              "3        Parents Room Temperature  ...     -0.000000\n",
              "4          Teenager Room Humidity  ...     -0.000110\n",
              "5                          RH_out  ...     -0.049557\n",
              "6           Ironing Room Humidity  ...     -0.000000\n",
              "7           Parents Room Humidity  ...     -0.000000\n",
              "8            Bathroom Temperature  ...     -0.000000\n",
              "9             Kitchen Temperature  ...      0.000000\n",
              "10              Random Variable 1  ...     -0.000000\n",
              "11              Random Variable 2  ...     -0.000000\n",
              "12                    Press_mm_hg  ...     -0.000000\n",
              "13       Ironing Room Temperature  ...     -0.000000\n",
              "14                     Visibility  ...      0.000000\n",
              "15              Bathroom Humidity  ...      0.000000\n",
              "16           Office Room Humidity  ...      0.000000\n",
              "17        Office Room Temperature  ...     -0.000000\n",
              "18                      Windspeed  ...      0.002912\n",
              "19     Northside Outside Humidity  ...     -0.000000\n",
              "20          Laundry Room Humidity  ...      0.000000\n",
              "21      Teenager Room Temperature  ...      0.000000\n",
              "22                      Tdewpoint  ...      0.000000\n",
              "23  Northside Outside Temperature  ...      0.000000\n",
              "24       Laundry Room Temperature  ...      0.000000\n",
              "25               Kitchen Humidity  ...      0.017880\n",
              "\n",
              "[26 rows x 4 columns]"
            ]
          },
          "metadata": {
            "tags": []
          },
          "execution_count": 49
        }
      ]
    },
    {
      "cell_type": "markdown",
      "metadata": {
        "id": "FN2cmL_Djms5",
        "colab_type": "text"
      },
      "source": [
        "**QUESTION 12**"
      ]
    },
    {
      "cell_type": "code",
      "metadata": {
        "id": "LJELtQswjmJp",
        "colab_type": "code",
        "colab": {
          "base_uri": "https://localhost:8080/",
          "height": 34
        },
        "outputId": "441d3476-6ad8-4f34-e3cf-7f6c4292e612"
      },
      "source": [
        "linear_target = df['Northside Outside Temperature']\n",
        "array = np.array(df['Living Room Temperature'])\n",
        "linear_features = array.reshape(-1,1)\n",
        "x_train, x_test, y_train, y_test = train_test_split(linear_features, linear_target, test_size = 0.3, random_state =42)\n",
        "simple_linear_model = LinearRegression()\n",
        "simple_linear_model.fit(x_train, y_train)\n",
        "predicted_simple_linear = simple_linear_model.predict(x_test)\n",
        "\n",
        "r2_simple = r2_score(y_test, predicted_simple_linear)\n",
        "round(r2_simple, 2)"
      ],
      "execution_count": null,
      "outputs": [
        {
          "output_type": "execute_result",
          "data": {
            "text/plain": [
              "0.64"
            ]
          },
          "metadata": {
            "tags": []
          },
          "execution_count": 50
        }
      ]
    }
  ]
}